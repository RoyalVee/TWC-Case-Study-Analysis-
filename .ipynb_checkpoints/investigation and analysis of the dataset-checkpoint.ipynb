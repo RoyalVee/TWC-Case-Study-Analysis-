{
 "cells": [
  {
   "cell_type": "markdown",
   "metadata": {},
   "source": [
    "# TWC Case Study Analysis\n",
    "\n",
    "## Table of Contents\n",
    "<ul>\n",
    "<li><a href=\"#intro\">Introduction</a></li>\n",
    "<li><a href=\"#wrangling\">Data Wrangling</a></li>\n",
    "<li><a href=\"#eda\">Exploratory Data Analysis</a></li>\n",
    "<li><a href=\"#conclusions\">Conclusions</a></li>\n",
    "</ul>"
   ]
  },
  {
   "cell_type": "markdown",
   "metadata": {},
   "source": [
    "<a id='intro'></a>\n",
    "## Introduction\n",
    "TWC case study is a sample medical dataset of patient interaction.\n",
    "\n",
    "Using the TWC Case study dataset, analysis will be carried out with the aim of finding the trends. \n",
    "\n",
    "To achieve this, the following questions will be answered in the analysis:\n",
    "\n",
    "- Which Patient Type in Location 10 brought the Most revenue in 2019? \n",
    "- Which location saw the biggest increase in total patient volume %? what %?  (1/1/2020-3/16/2020  vs 3/17/2020-6/30/2020).\n",
    "- Do females or males bring in more revenue/patient?\n",
    "- What is the cost/patient of our most costly patient type? Which patient type?\n",
    "- Which Physician was the most profitable on a per patient basis? What profit?\n",
    "- Which doctor saw the highest volume of unique Medicare Patients.\n",
    "- What is the average age of a female Glaucoma & Glaucoma Laser patient in 2019?\n",
    "- Which patient type drives the most revenue/encounter and profit/encounter? What was Revenue by Encounter/ Profit/Encounter?\n",
    "- Which contract type is most profitable per patient/what profit?\n",
    "- What is the total profit on FFS patients?\n",
    "\n",
    "\n",
    "To answer the above questions from the TWC case study dataset Dataset will be used.\n",
    "\n"
   ]
  },
  {
   "cell_type": "code",
   "execution_count": 1,
   "metadata": {},
   "outputs": [],
   "source": [
    "#Import needed libraries\n",
    "import pandas as pd\n",
    "import numpy as np\n",
    "import matplotlib.pyplot as plt\n",
    "import seaborn as sns\n",
    "\n",
    "%matplotlib inline\n"
   ]
  },
  {
   "cell_type": "markdown",
   "metadata": {},
   "source": [
    "<a id='wrangling'></a>\n",
    "## Data Wrangling\n",
    "\n",
    "TWC Case Study dataset loading and cleaning operations\n",
    "\n",
    "### General Properties"
   ]
  },
  {
   "cell_type": "code",
   "execution_count": 2,
   "metadata": {},
   "outputs": [],
   "source": [
    "# Load TWC case study dataset\n",
    "df_data = pd.read_excel(\"TWC_Case Study dataset.xlsx\", sheet_name=\"Data\")\n",
    "df_cpt_Info = pd.read_excel(\"TWC_Case Study dataset.xlsx\", sheet_name=\"CPT Info\")\n",
    "df_contract_info = pd.read_excel(\"TWC_Case Study dataset.xlsx\", sheet_name=\"Contract Info\")\n",
    "df_cost_mca_rev = pd.read_excel(\"TWC_Case Study dataset.xlsx\", sheet_name=\"Cost as % of MCA or Rev\")"
   ]
  },
  {
   "cell_type": "code",
   "execution_count": 3,
   "metadata": {},
   "outputs": [
    {
     "data": {
      "text/html": [
       "<div>\n",
       "<style scoped>\n",
       "    .dataframe tbody tr th:only-of-type {\n",
       "        vertical-align: middle;\n",
       "    }\n",
       "\n",
       "    .dataframe tbody tr th {\n",
       "        vertical-align: top;\n",
       "    }\n",
       "\n",
       "    .dataframe thead th {\n",
       "        text-align: right;\n",
       "    }\n",
       "</style>\n",
       "<table border=\"1\" class=\"dataframe\">\n",
       "  <thead>\n",
       "    <tr style=\"text-align: right;\">\n",
       "      <th></th>\n",
       "      <th>Person Number</th>\n",
       "      <th>charge DOS</th>\n",
       "      <th>Contract</th>\n",
       "      <th>COB1</th>\n",
       "      <th>Location</th>\n",
       "      <th>Physician</th>\n",
       "      <th>Patient Age</th>\n",
       "      <th>Cpt Type</th>\n",
       "      <th>Co-Payment</th>\n",
       "      <th>Encounter Number</th>\n",
       "      <th>Patient Type</th>\n",
       "      <th>Patient Zip Code</th>\n",
       "      <th>Patient Gender</th>\n",
       "      <th>CPT</th>\n",
       "      <th>Revenue</th>\n",
       "    </tr>\n",
       "  </thead>\n",
       "  <tbody>\n",
       "    <tr>\n",
       "      <th>0</th>\n",
       "      <td>21913</td>\n",
       "      <td>2020-01-06</td>\n",
       "      <td>Contract 1</td>\n",
       "      <td>COB1 4</td>\n",
       "      <td>Location 4</td>\n",
       "      <td>Physician 4</td>\n",
       "      <td>73</td>\n",
       "      <td>Lucentis</td>\n",
       "      <td>0</td>\n",
       "      <td>5</td>\n",
       "      <td>Retinal Injections</td>\n",
       "      <td>90011.0</td>\n",
       "      <td>M</td>\n",
       "      <td>LUCEN_DELV</td>\n",
       "      <td>1823.64</td>\n",
       "    </tr>\n",
       "    <tr>\n",
       "      <th>1</th>\n",
       "      <td>11093</td>\n",
       "      <td>2020-01-02</td>\n",
       "      <td>Contract 1</td>\n",
       "      <td>COB1 6</td>\n",
       "      <td>Location 6</td>\n",
       "      <td>Physician 7</td>\n",
       "      <td>80</td>\n",
       "      <td>Eylea</td>\n",
       "      <td>0</td>\n",
       "      <td>15</td>\n",
       "      <td>Retinal Injections</td>\n",
       "      <td>90044.0</td>\n",
       "      <td>M</td>\n",
       "      <td>EYLEA_DELV</td>\n",
       "      <td>2447.55</td>\n",
       "    </tr>\n",
       "  </tbody>\n",
       "</table>\n",
       "</div>"
      ],
      "text/plain": [
       "   Person Number charge DOS    Contract    COB1    Location    Physician  \\\n",
       "0          21913 2020-01-06  Contract 1  COB1 4  Location 4  Physician 4   \n",
       "1          11093 2020-01-02  Contract 1  COB1 6  Location 6  Physician 7   \n",
       "\n",
       "   Patient Age  Cpt Type  Co-Payment  Encounter Number        Patient Type  \\\n",
       "0           73  Lucentis           0                 5  Retinal Injections   \n",
       "1           80     Eylea           0                15  Retinal Injections   \n",
       "\n",
       "   Patient Zip Code Patient Gender         CPT  Revenue  \n",
       "0           90011.0              M  LUCEN_DELV  1823.64  \n",
       "1           90044.0              M  EYLEA_DELV  2447.55  "
      ]
     },
     "execution_count": 3,
     "metadata": {},
     "output_type": "execute_result"
    }
   ],
   "source": [
    "# Confirm Import \n",
    "df_data.head(2)"
   ]
  },
  {
   "cell_type": "code",
   "execution_count": 4,
   "metadata": {},
   "outputs": [
    {
     "data": {
      "text/html": [
       "<div>\n",
       "<style scoped>\n",
       "    .dataframe tbody tr th:only-of-type {\n",
       "        vertical-align: middle;\n",
       "    }\n",
       "\n",
       "    .dataframe tbody tr th {\n",
       "        vertical-align: top;\n",
       "    }\n",
       "\n",
       "    .dataframe thead th {\n",
       "        text-align: right;\n",
       "    }\n",
       "</style>\n",
       "<table border=\"1\" class=\"dataframe\">\n",
       "  <thead>\n",
       "    <tr style=\"text-align: right;\">\n",
       "      <th></th>\n",
       "      <th>Code Desc</th>\n",
       "      <th>Cpt Type</th>\n",
       "      <th>Service Item Id</th>\n",
       "      <th>Medicare Allowable</th>\n",
       "    </tr>\n",
       "  </thead>\n",
       "  <tbody>\n",
       "    <tr>\n",
       "      <th>0</th>\n",
       "      <td>Lucentis Delive</td>\n",
       "      <td>Lucentis</td>\n",
       "      <td>LUCEN_DELV</td>\n",
       "      <td>0.0</td>\n",
       "    </tr>\n",
       "    <tr>\n",
       "      <th>1</th>\n",
       "      <td>Eylea Delivered</td>\n",
       "      <td>Eylea</td>\n",
       "      <td>EYLEA_DELV</td>\n",
       "      <td>0.0</td>\n",
       "    </tr>\n",
       "  </tbody>\n",
       "</table>\n",
       "</div>"
      ],
      "text/plain": [
       "         Code Desc  Cpt Type Service Item Id  Medicare Allowable\n",
       "0  Lucentis Delive  Lucentis      LUCEN_DELV                 0.0\n",
       "1  Eylea Delivered     Eylea      EYLEA_DELV                 0.0"
      ]
     },
     "execution_count": 4,
     "metadata": {},
     "output_type": "execute_result"
    }
   ],
   "source": [
    "df_cpt_Info.head(2)"
   ]
  },
  {
   "cell_type": "code",
   "execution_count": 5,
   "metadata": {},
   "outputs": [
    {
     "data": {
      "text/html": [
       "<div>\n",
       "<style scoped>\n",
       "    .dataframe tbody tr th:only-of-type {\n",
       "        vertical-align: middle;\n",
       "    }\n",
       "\n",
       "    .dataframe tbody tr th {\n",
       "        vertical-align: top;\n",
       "    }\n",
       "\n",
       "    .dataframe thead th {\n",
       "        text-align: right;\n",
       "    }\n",
       "</style>\n",
       "<table border=\"1\" class=\"dataframe\">\n",
       "  <thead>\n",
       "    <tr style=\"text-align: right;\">\n",
       "      <th></th>\n",
       "      <th>Number</th>\n",
       "      <th>Contract</th>\n",
       "      <th>Number.1</th>\n",
       "      <th>COB 1</th>\n",
       "      <th>Fin Class</th>\n",
       "      <th>LOB</th>\n",
       "      <th>Number.2</th>\n",
       "      <th>TPA</th>\n",
       "      <th>Primary Key</th>\n",
       "      <th>Countif</th>\n",
       "    </tr>\n",
       "  </thead>\n",
       "  <tbody>\n",
       "    <tr>\n",
       "      <th>0</th>\n",
       "      <td>1</td>\n",
       "      <td>Contract 1</td>\n",
       "      <td>4</td>\n",
       "      <td>COB1 4</td>\n",
       "      <td>FFS</td>\n",
       "      <td>Medicare</td>\n",
       "      <td>NaN</td>\n",
       "      <td>NaN</td>\n",
       "      <td>Contract 1COB1 4</td>\n",
       "      <td>1</td>\n",
       "    </tr>\n",
       "    <tr>\n",
       "      <th>1</th>\n",
       "      <td>1</td>\n",
       "      <td>Contract 1</td>\n",
       "      <td>6</td>\n",
       "      <td>COB1 6</td>\n",
       "      <td>FFS</td>\n",
       "      <td>Medicare</td>\n",
       "      <td>NaN</td>\n",
       "      <td>NaN</td>\n",
       "      <td>Contract 1COB1 6</td>\n",
       "      <td>1</td>\n",
       "    </tr>\n",
       "  </tbody>\n",
       "</table>\n",
       "</div>"
      ],
      "text/plain": [
       "   Number    Contract  Number.1   COB 1 Fin Class       LOB  Number.2  TPA  \\\n",
       "0       1  Contract 1         4  COB1 4       FFS  Medicare       NaN  NaN   \n",
       "1       1  Contract 1         6  COB1 6       FFS  Medicare       NaN  NaN   \n",
       "\n",
       "        Primary Key  Countif  \n",
       "0  Contract 1COB1 4        1  \n",
       "1  Contract 1COB1 6        1  "
      ]
     },
     "execution_count": 5,
     "metadata": {},
     "output_type": "execute_result"
    }
   ],
   "source": [
    "df_contract_info.head(2)"
   ]
  },
  {
   "cell_type": "code",
   "execution_count": 6,
   "metadata": {},
   "outputs": [
    {
     "data": {
      "text/html": [
       "<div>\n",
       "<style scoped>\n",
       "    .dataframe tbody tr th:only-of-type {\n",
       "        vertical-align: middle;\n",
       "    }\n",
       "\n",
       "    .dataframe tbody tr th {\n",
       "        vertical-align: top;\n",
       "    }\n",
       "\n",
       "    .dataframe thead th {\n",
       "        text-align: right;\n",
       "    }\n",
       "</style>\n",
       "<table border=\"1\" class=\"dataframe\">\n",
       "  <thead>\n",
       "    <tr style=\"text-align: right;\">\n",
       "      <th></th>\n",
       "      <th>Cpt Type</th>\n",
       "      <th>% of MCA</th>\n",
       "      <th>% of Revenue</th>\n",
       "    </tr>\n",
       "  </thead>\n",
       "  <tbody>\n",
       "    <tr>\n",
       "      <th>0</th>\n",
       "      <td>Lucentis</td>\n",
       "      <td>0.65</td>\n",
       "      <td>0.9</td>\n",
       "    </tr>\n",
       "    <tr>\n",
       "      <th>1</th>\n",
       "      <td>Eylea</td>\n",
       "      <td>0.65</td>\n",
       "      <td>0.9</td>\n",
       "    </tr>\n",
       "  </tbody>\n",
       "</table>\n",
       "</div>"
      ],
      "text/plain": [
       "   Cpt Type  % of MCA  % of Revenue\n",
       "0  Lucentis      0.65           0.9\n",
       "1     Eylea      0.65           0.9"
      ]
     },
     "execution_count": 6,
     "metadata": {},
     "output_type": "execute_result"
    }
   ],
   "source": [
    "df_cost_mca_rev.head(2)"
   ]
  },
  {
   "cell_type": "markdown",
   "metadata": {},
   "source": [
    "## Assessing Data\n",
    "Assessing collected dataset"
   ]
  },
  {
   "cell_type": "markdown",
   "metadata": {},
   "source": [
    "##### Visual assessment:"
   ]
  },
  {
   "cell_type": "code",
   "execution_count": 7,
   "metadata": {},
   "outputs": [
    {
     "data": {
      "text/html": [
       "<div>\n",
       "<style scoped>\n",
       "    .dataframe tbody tr th:only-of-type {\n",
       "        vertical-align: middle;\n",
       "    }\n",
       "\n",
       "    .dataframe tbody tr th {\n",
       "        vertical-align: top;\n",
       "    }\n",
       "\n",
       "    .dataframe thead th {\n",
       "        text-align: right;\n",
       "    }\n",
       "</style>\n",
       "<table border=\"1\" class=\"dataframe\">\n",
       "  <thead>\n",
       "    <tr style=\"text-align: right;\">\n",
       "      <th></th>\n",
       "      <th>Person Number</th>\n",
       "      <th>charge DOS</th>\n",
       "      <th>Contract</th>\n",
       "      <th>COB1</th>\n",
       "      <th>Location</th>\n",
       "      <th>Physician</th>\n",
       "      <th>Patient Age</th>\n",
       "      <th>Cpt Type</th>\n",
       "      <th>Co-Payment</th>\n",
       "      <th>Encounter Number</th>\n",
       "      <th>Patient Type</th>\n",
       "      <th>Patient Zip Code</th>\n",
       "      <th>Patient Gender</th>\n",
       "      <th>CPT</th>\n",
       "      <th>Revenue</th>\n",
       "    </tr>\n",
       "  </thead>\n",
       "  <tbody>\n",
       "    <tr>\n",
       "      <th>1537</th>\n",
       "      <td>23046</td>\n",
       "      <td>2019-06-06</td>\n",
       "      <td>Contract 29</td>\n",
       "      <td>COB1 138</td>\n",
       "      <td>Location 23</td>\n",
       "      <td>Physician 14</td>\n",
       "      <td>75</td>\n",
       "      <td>Cataract Surgery</td>\n",
       "      <td>0</td>\n",
       "      <td>7028</td>\n",
       "      <td>Surgery</td>\n",
       "      <td>90049.0</td>\n",
       "      <td>M</td>\n",
       "      <td>66984</td>\n",
       "      <td>976.892000</td>\n",
       "    </tr>\n",
       "    <tr>\n",
       "      <th>7330</th>\n",
       "      <td>21913</td>\n",
       "      <td>2019-03-07</td>\n",
       "      <td>Contract 1</td>\n",
       "      <td>COB1 4</td>\n",
       "      <td>Location 4</td>\n",
       "      <td>Physician 4</td>\n",
       "      <td>72</td>\n",
       "      <td>OCT</td>\n",
       "      <td>0</td>\n",
       "      <td>3573</td>\n",
       "      <td>Retinal Injections</td>\n",
       "      <td>90011.0</td>\n",
       "      <td>M</td>\n",
       "      <td>92134</td>\n",
       "      <td>61.124000</td>\n",
       "    </tr>\n",
       "    <tr>\n",
       "      <th>6617</th>\n",
       "      <td>15805</td>\n",
       "      <td>2019-04-09</td>\n",
       "      <td>Contract 18</td>\n",
       "      <td>COB1 28</td>\n",
       "      <td>Location 31</td>\n",
       "      <td>Physician 18</td>\n",
       "      <td>52</td>\n",
       "      <td>Office Code</td>\n",
       "      <td>0</td>\n",
       "      <td>21237</td>\n",
       "      <td>Post Op</td>\n",
       "      <td>90065.0</td>\n",
       "      <td>M</td>\n",
       "      <td>2022F</td>\n",
       "      <td>0.000000</td>\n",
       "    </tr>\n",
       "    <tr>\n",
       "      <th>8353</th>\n",
       "      <td>10440</td>\n",
       "      <td>2019-02-14</td>\n",
       "      <td>Contract 1</td>\n",
       "      <td>COB1 106</td>\n",
       "      <td>Location 6</td>\n",
       "      <td>Physician 7</td>\n",
       "      <td>75</td>\n",
       "      <td>Office Code</td>\n",
       "      <td>0</td>\n",
       "      <td>21208</td>\n",
       "      <td>Retinal Injections</td>\n",
       "      <td>90017.0</td>\n",
       "      <td>M</td>\n",
       "      <td>2022F</td>\n",
       "      <td>0.000000</td>\n",
       "    </tr>\n",
       "    <tr>\n",
       "      <th>1497</th>\n",
       "      <td>10922</td>\n",
       "      <td>2020-10-08</td>\n",
       "      <td>Contract 50</td>\n",
       "      <td>COB1 85</td>\n",
       "      <td>Location 4</td>\n",
       "      <td>Physician 4</td>\n",
       "      <td>67</td>\n",
       "      <td>OCT</td>\n",
       "      <td>5</td>\n",
       "      <td>7604</td>\n",
       "      <td>Post Op</td>\n",
       "      <td>90077.0</td>\n",
       "      <td>M</td>\n",
       "      <td>92134</td>\n",
       "      <td>60.430447</td>\n",
       "    </tr>\n",
       "    <tr>\n",
       "      <th>3232</th>\n",
       "      <td>12885</td>\n",
       "      <td>2018-05-04</td>\n",
       "      <td>Contract 21</td>\n",
       "      <td>COB1 30</td>\n",
       "      <td>Location 4</td>\n",
       "      <td>Physician 4</td>\n",
       "      <td>49</td>\n",
       "      <td>Other</td>\n",
       "      <td>0</td>\n",
       "      <td>2089</td>\n",
       "      <td>Retinal Injections</td>\n",
       "      <td>90023.0</td>\n",
       "      <td>M</td>\n",
       "      <td>67028</td>\n",
       "      <td>156.087570</td>\n",
       "    </tr>\n",
       "    <tr>\n",
       "      <th>3460</th>\n",
       "      <td>17201</td>\n",
       "      <td>2018-08-30</td>\n",
       "      <td>Contract 1</td>\n",
       "      <td>COB1 106</td>\n",
       "      <td>Location 6</td>\n",
       "      <td>Physician 7</td>\n",
       "      <td>86</td>\n",
       "      <td>Other</td>\n",
       "      <td>0</td>\n",
       "      <td>15175</td>\n",
       "      <td>Retinal Procedures</td>\n",
       "      <td>90036.0</td>\n",
       "      <td>F</td>\n",
       "      <td>67028</td>\n",
       "      <td>156.087570</td>\n",
       "    </tr>\n",
       "    <tr>\n",
       "      <th>4179</th>\n",
       "      <td>26360</td>\n",
       "      <td>2020-08-17</td>\n",
       "      <td>Contract 63</td>\n",
       "      <td>COB1 113</td>\n",
       "      <td>Location 23</td>\n",
       "      <td>Physician 48</td>\n",
       "      <td>87</td>\n",
       "      <td>Anesthesia</td>\n",
       "      <td>0</td>\n",
       "      <td>18533</td>\n",
       "      <td>Anesthesia</td>\n",
       "      <td>90049.0</td>\n",
       "      <td>M</td>\n",
       "      <td>140</td>\n",
       "      <td>183.859200</td>\n",
       "    </tr>\n",
       "    <tr>\n",
       "      <th>1938</th>\n",
       "      <td>11322</td>\n",
       "      <td>2018-07-25</td>\n",
       "      <td>Contract 46</td>\n",
       "      <td>COB1 72</td>\n",
       "      <td>Location 14</td>\n",
       "      <td>Physician 16</td>\n",
       "      <td>60</td>\n",
       "      <td>Office Code</td>\n",
       "      <td>0</td>\n",
       "      <td>9487</td>\n",
       "      <td>Retinal Injections</td>\n",
       "      <td>90003.0</td>\n",
       "      <td>M</td>\n",
       "      <td>92014</td>\n",
       "      <td>182.383477</td>\n",
       "    </tr>\n",
       "    <tr>\n",
       "      <th>8890</th>\n",
       "      <td>16046</td>\n",
       "      <td>2020-01-16</td>\n",
       "      <td>Contract 16</td>\n",
       "      <td>COB1 108</td>\n",
       "      <td>Location 6</td>\n",
       "      <td>Physician 7</td>\n",
       "      <td>71</td>\n",
       "      <td>OCT</td>\n",
       "      <td>0</td>\n",
       "      <td>28434</td>\n",
       "      <td>Retinal Injections</td>\n",
       "      <td>90040.0</td>\n",
       "      <td>M</td>\n",
       "      <td>92134</td>\n",
       "      <td>60.430447</td>\n",
       "    </tr>\n",
       "  </tbody>\n",
       "</table>\n",
       "</div>"
      ],
      "text/plain": [
       "      Person Number charge DOS     Contract      COB1     Location  \\\n",
       "1537          23046 2019-06-06  Contract 29  COB1 138  Location 23   \n",
       "7330          21913 2019-03-07   Contract 1    COB1 4   Location 4   \n",
       "6617          15805 2019-04-09  Contract 18   COB1 28  Location 31   \n",
       "8353          10440 2019-02-14   Contract 1  COB1 106   Location 6   \n",
       "1497          10922 2020-10-08  Contract 50   COB1 85   Location 4   \n",
       "3232          12885 2018-05-04  Contract 21   COB1 30   Location 4   \n",
       "3460          17201 2018-08-30   Contract 1  COB1 106   Location 6   \n",
       "4179          26360 2020-08-17  Contract 63  COB1 113  Location 23   \n",
       "1938          11322 2018-07-25  Contract 46   COB1 72  Location 14   \n",
       "8890          16046 2020-01-16  Contract 16  COB1 108   Location 6   \n",
       "\n",
       "         Physician  Patient Age          Cpt Type  Co-Payment  \\\n",
       "1537  Physician 14           75  Cataract Surgery           0   \n",
       "7330   Physician 4           72               OCT           0   \n",
       "6617  Physician 18           52       Office Code           0   \n",
       "8353   Physician 7           75       Office Code           0   \n",
       "1497   Physician 4           67               OCT           5   \n",
       "3232   Physician 4           49             Other           0   \n",
       "3460   Physician 7           86             Other           0   \n",
       "4179  Physician 48           87        Anesthesia           0   \n",
       "1938  Physician 16           60       Office Code           0   \n",
       "8890   Physician 7           71               OCT           0   \n",
       "\n",
       "      Encounter Number        Patient Type  Patient Zip Code Patient Gender  \\\n",
       "1537              7028             Surgery           90049.0              M   \n",
       "7330              3573  Retinal Injections           90011.0              M   \n",
       "6617             21237             Post Op           90065.0              M   \n",
       "8353             21208  Retinal Injections           90017.0              M   \n",
       "1497              7604             Post Op           90077.0              M   \n",
       "3232              2089  Retinal Injections           90023.0              M   \n",
       "3460             15175  Retinal Procedures           90036.0              F   \n",
       "4179             18533          Anesthesia           90049.0              M   \n",
       "1938              9487  Retinal Injections           90003.0              M   \n",
       "8890             28434  Retinal Injections           90040.0              M   \n",
       "\n",
       "        CPT     Revenue  \n",
       "1537  66984  976.892000  \n",
       "7330  92134   61.124000  \n",
       "6617  2022F    0.000000  \n",
       "8353  2022F    0.000000  \n",
       "1497  92134   60.430447  \n",
       "3232  67028  156.087570  \n",
       "3460  67028  156.087570  \n",
       "4179    140  183.859200  \n",
       "1938  92014  182.383477  \n",
       "8890  92134   60.430447  "
      ]
     },
     "execution_count": 7,
     "metadata": {},
     "output_type": "execute_result"
    }
   ],
   "source": [
    "df_data.sample(10)"
   ]
  },
  {
   "cell_type": "code",
   "execution_count": 8,
   "metadata": {},
   "outputs": [
    {
     "data": {
      "text/html": [
       "<div>\n",
       "<style scoped>\n",
       "    .dataframe tbody tr th:only-of-type {\n",
       "        vertical-align: middle;\n",
       "    }\n",
       "\n",
       "    .dataframe tbody tr th {\n",
       "        vertical-align: top;\n",
       "    }\n",
       "\n",
       "    .dataframe thead th {\n",
       "        text-align: right;\n",
       "    }\n",
       "</style>\n",
       "<table border=\"1\" class=\"dataframe\">\n",
       "  <thead>\n",
       "    <tr style=\"text-align: right;\">\n",
       "      <th></th>\n",
       "      <th>Code Desc</th>\n",
       "      <th>Cpt Type</th>\n",
       "      <th>Service Item Id</th>\n",
       "      <th>Medicare Allowable</th>\n",
       "    </tr>\n",
       "  </thead>\n",
       "  <tbody>\n",
       "    <tr>\n",
       "      <th>74</th>\n",
       "      <td>Anes- Eye; Corn</td>\n",
       "      <td>Anesthesia</td>\n",
       "      <td>144</td>\n",
       "      <td>219.690000</td>\n",
       "    </tr>\n",
       "    <tr>\n",
       "      <th>3</th>\n",
       "      <td>Medical Records</td>\n",
       "      <td>Other</td>\n",
       "      <td>Misc</td>\n",
       "      <td>0.000000</td>\n",
       "    </tr>\n",
       "    <tr>\n",
       "      <th>66</th>\n",
       "      <td>Lucentis 0.5 Mg</td>\n",
       "      <td>Lucentis</td>\n",
       "      <td>J2778</td>\n",
       "      <td>0.000000</td>\n",
       "    </tr>\n",
       "    <tr>\n",
       "      <th>59</th>\n",
       "      <td>Cataract Ext.</td>\n",
       "      <td>Cataract Surgery</td>\n",
       "      <td>66982</td>\n",
       "      <td>815.531849</td>\n",
       "    </tr>\n",
       "    <tr>\n",
       "      <th>43</th>\n",
       "      <td>Fistuliz Scler;</td>\n",
       "      <td>Glaucoma</td>\n",
       "      <td>66170</td>\n",
       "      <td>1190.778929</td>\n",
       "    </tr>\n",
       "    <tr>\n",
       "      <th>106</th>\n",
       "      <td>Repr Blepharopt</td>\n",
       "      <td>Plastic Surgery</td>\n",
       "      <td>67904</td>\n",
       "      <td>594.498283</td>\n",
       "    </tr>\n",
       "    <tr>\n",
       "      <th>2</th>\n",
       "      <td>Walk Out Not Se</td>\n",
       "      <td>Other</td>\n",
       "      <td>Walk Out</td>\n",
       "      <td>0.000000</td>\n",
       "    </tr>\n",
       "    <tr>\n",
       "      <th>18</th>\n",
       "      <td>Ophth Serv: Med</td>\n",
       "      <td>Office Code</td>\n",
       "      <td>92012</td>\n",
       "      <td>90.520274</td>\n",
       "    </tr>\n",
       "    <tr>\n",
       "      <th>64</th>\n",
       "      <td>Ophth Exten W/r</td>\n",
       "      <td>Ophthalmoscopy</td>\n",
       "      <td>92226</td>\n",
       "      <td>26.390947</td>\n",
       "    </tr>\n",
       "    <tr>\n",
       "      <th>46</th>\n",
       "      <td>Inj Anes Agent;</td>\n",
       "      <td>Other</td>\n",
       "      <td>64400</td>\n",
       "      <td>88.401338</td>\n",
       "    </tr>\n",
       "  </tbody>\n",
       "</table>\n",
       "</div>"
      ],
      "text/plain": [
       "           Code Desc          Cpt Type Service Item Id  Medicare Allowable\n",
       "74   Anes- Eye; Corn        Anesthesia             144          219.690000\n",
       "3    Medical Records             Other            Misc            0.000000\n",
       "66   Lucentis 0.5 Mg          Lucentis           J2778            0.000000\n",
       "59   Cataract Ext.    Cataract Surgery           66982          815.531849\n",
       "43   Fistuliz Scler;          Glaucoma           66170         1190.778929\n",
       "106  Repr Blepharopt   Plastic Surgery           67904          594.498283\n",
       "2    Walk Out Not Se             Other        Walk Out            0.000000\n",
       "18   Ophth Serv: Med       Office Code           92012           90.520274\n",
       "64   Ophth Exten W/r    Ophthalmoscopy           92226           26.390947\n",
       "46   Inj Anes Agent;             Other           64400           88.401338"
      ]
     },
     "execution_count": 8,
     "metadata": {},
     "output_type": "execute_result"
    }
   ],
   "source": [
    "df_cpt_Info.sample(10)"
   ]
  },
  {
   "cell_type": "code",
   "execution_count": 9,
   "metadata": {},
   "outputs": [
    {
     "data": {
      "text/html": [
       "<div>\n",
       "<style scoped>\n",
       "    .dataframe tbody tr th:only-of-type {\n",
       "        vertical-align: middle;\n",
       "    }\n",
       "\n",
       "    .dataframe tbody tr th {\n",
       "        vertical-align: top;\n",
       "    }\n",
       "\n",
       "    .dataframe thead th {\n",
       "        text-align: right;\n",
       "    }\n",
       "</style>\n",
       "<table border=\"1\" class=\"dataframe\">\n",
       "  <thead>\n",
       "    <tr style=\"text-align: right;\">\n",
       "      <th></th>\n",
       "      <th>Number</th>\n",
       "      <th>Contract</th>\n",
       "      <th>Number.1</th>\n",
       "      <th>COB 1</th>\n",
       "      <th>Fin Class</th>\n",
       "      <th>LOB</th>\n",
       "      <th>Number.2</th>\n",
       "      <th>TPA</th>\n",
       "      <th>Primary Key</th>\n",
       "      <th>Countif</th>\n",
       "    </tr>\n",
       "  </thead>\n",
       "  <tbody>\n",
       "    <tr>\n",
       "      <th>38</th>\n",
       "      <td>66</td>\n",
       "      <td>Contract 66</td>\n",
       "      <td>119</td>\n",
       "      <td>COB1 119</td>\n",
       "      <td>CAP</td>\n",
       "      <td>Medicaid</td>\n",
       "      <td>16.0</td>\n",
       "      <td>TPA 16</td>\n",
       "      <td>Contract 66COB1 119</td>\n",
       "      <td>1</td>\n",
       "    </tr>\n",
       "    <tr>\n",
       "      <th>25</th>\n",
       "      <td>1</td>\n",
       "      <td>Contract 1</td>\n",
       "      <td>81</td>\n",
       "      <td>COB1 81</td>\n",
       "      <td>FFS</td>\n",
       "      <td>Medicare</td>\n",
       "      <td>NaN</td>\n",
       "      <td>NaN</td>\n",
       "      <td>Contract 1COB1 81</td>\n",
       "      <td>1</td>\n",
       "    </tr>\n",
       "    <tr>\n",
       "      <th>45</th>\n",
       "      <td>40</td>\n",
       "      <td>Contract 40</td>\n",
       "      <td>133</td>\n",
       "      <td>COB1 133</td>\n",
       "      <td>FFS</td>\n",
       "      <td>Medicare</td>\n",
       "      <td>NaN</td>\n",
       "      <td>NaN</td>\n",
       "      <td>Contract 40COB1 133</td>\n",
       "      <td>1</td>\n",
       "    </tr>\n",
       "    <tr>\n",
       "      <th>17</th>\n",
       "      <td>42</td>\n",
       "      <td>Contract 42</td>\n",
       "      <td>53</td>\n",
       "      <td>COB1 53</td>\n",
       "      <td>FFS</td>\n",
       "      <td>Medicare</td>\n",
       "      <td>11.0</td>\n",
       "      <td>TPA 11</td>\n",
       "      <td>Contract 42COB1 53</td>\n",
       "      <td>2</td>\n",
       "    </tr>\n",
       "    <tr>\n",
       "      <th>61</th>\n",
       "      <td>12</td>\n",
       "      <td>Contract 12</td>\n",
       "      <td>37</td>\n",
       "      <td>COB1 37</td>\n",
       "      <td>CAP</td>\n",
       "      <td>Medicare</td>\n",
       "      <td>6.0</td>\n",
       "      <td>TPA 6</td>\n",
       "      <td>Contract 12COB1 37</td>\n",
       "      <td>2</td>\n",
       "    </tr>\n",
       "    <tr>\n",
       "      <th>69</th>\n",
       "      <td>103</td>\n",
       "      <td>Contract 103</td>\n",
       "      <td>194</td>\n",
       "      <td>COB1 194</td>\n",
       "      <td>CAP</td>\n",
       "      <td>Medicaid</td>\n",
       "      <td>NaN</td>\n",
       "      <td>NaN</td>\n",
       "      <td>Contract 103COB1 194</td>\n",
       "      <td>1</td>\n",
       "    </tr>\n",
       "    <tr>\n",
       "      <th>71</th>\n",
       "      <td>109</td>\n",
       "      <td>Contract 109</td>\n",
       "      <td>201</td>\n",
       "      <td>COB1 201</td>\n",
       "      <td>CAP</td>\n",
       "      <td>Medicare</td>\n",
       "      <td>6.0</td>\n",
       "      <td>TPA 6</td>\n",
       "      <td>Contract 109COB1 201</td>\n",
       "      <td>1</td>\n",
       "    </tr>\n",
       "    <tr>\n",
       "      <th>2</th>\n",
       "      <td>5</td>\n",
       "      <td>Contract 5</td>\n",
       "      <td>9</td>\n",
       "      <td>COB1 9</td>\n",
       "      <td>Self-Pay</td>\n",
       "      <td>Commercial</td>\n",
       "      <td>NaN</td>\n",
       "      <td>NaN</td>\n",
       "      <td>Contract 5COB1 9</td>\n",
       "      <td>1</td>\n",
       "    </tr>\n",
       "    <tr>\n",
       "      <th>24</th>\n",
       "      <td>49</td>\n",
       "      <td>Contract 49</td>\n",
       "      <td>80</td>\n",
       "      <td>COB1 80</td>\n",
       "      <td>CAP</td>\n",
       "      <td>Medicare</td>\n",
       "      <td>13.0</td>\n",
       "      <td>TPA 13</td>\n",
       "      <td>Contract 49COB1 80</td>\n",
       "      <td>1</td>\n",
       "    </tr>\n",
       "    <tr>\n",
       "      <th>4</th>\n",
       "      <td>12</td>\n",
       "      <td>Contract 12</td>\n",
       "      <td>18</td>\n",
       "      <td>COB1 18</td>\n",
       "      <td>FFS</td>\n",
       "      <td>Medicare</td>\n",
       "      <td>6.0</td>\n",
       "      <td>TPA 6</td>\n",
       "      <td>Contract 12COB1 18</td>\n",
       "      <td>1</td>\n",
       "    </tr>\n",
       "  </tbody>\n",
       "</table>\n",
       "</div>"
      ],
      "text/plain": [
       "    Number      Contract  Number.1     COB 1 Fin Class         LOB  Number.2  \\\n",
       "38      66   Contract 66       119  COB1 119       CAP    Medicaid      16.0   \n",
       "25       1    Contract 1        81   COB1 81       FFS    Medicare       NaN   \n",
       "45      40   Contract 40       133  COB1 133       FFS    Medicare       NaN   \n",
       "17      42   Contract 42        53   COB1 53       FFS    Medicare      11.0   \n",
       "61      12   Contract 12        37   COB1 37       CAP    Medicare       6.0   \n",
       "69     103  Contract 103       194  COB1 194       CAP    Medicaid       NaN   \n",
       "71     109  Contract 109       201  COB1 201       CAP    Medicare       6.0   \n",
       "2        5    Contract 5         9    COB1 9  Self-Pay  Commercial       NaN   \n",
       "24      49   Contract 49        80   COB1 80       CAP    Medicare      13.0   \n",
       "4       12   Contract 12        18   COB1 18       FFS    Medicare       6.0   \n",
       "\n",
       "       TPA           Primary Key  Countif  \n",
       "38  TPA 16   Contract 66COB1 119        1  \n",
       "25     NaN     Contract 1COB1 81        1  \n",
       "45     NaN   Contract 40COB1 133        1  \n",
       "17  TPA 11    Contract 42COB1 53        2  \n",
       "61   TPA 6    Contract 12COB1 37        2  \n",
       "69     NaN  Contract 103COB1 194        1  \n",
       "71   TPA 6  Contract 109COB1 201        1  \n",
       "2      NaN      Contract 5COB1 9        1  \n",
       "24  TPA 13    Contract 49COB1 80        1  \n",
       "4    TPA 6    Contract 12COB1 18        1  "
      ]
     },
     "execution_count": 9,
     "metadata": {},
     "output_type": "execute_result"
    }
   ],
   "source": [
    "df_contract_info.sample(10)"
   ]
  },
  {
   "cell_type": "code",
   "execution_count": 10,
   "metadata": {},
   "outputs": [
    {
     "data": {
      "text/html": [
       "<div>\n",
       "<style scoped>\n",
       "    .dataframe tbody tr th:only-of-type {\n",
       "        vertical-align: middle;\n",
       "    }\n",
       "\n",
       "    .dataframe tbody tr th {\n",
       "        vertical-align: top;\n",
       "    }\n",
       "\n",
       "    .dataframe thead th {\n",
       "        text-align: right;\n",
       "    }\n",
       "</style>\n",
       "<table border=\"1\" class=\"dataframe\">\n",
       "  <thead>\n",
       "    <tr style=\"text-align: right;\">\n",
       "      <th></th>\n",
       "      <th>Cpt Type</th>\n",
       "      <th>% of MCA</th>\n",
       "      <th>% of Revenue</th>\n",
       "    </tr>\n",
       "  </thead>\n",
       "  <tbody>\n",
       "    <tr>\n",
       "      <th>10</th>\n",
       "      <td>Plastic Surgery</td>\n",
       "      <td>0.95</td>\n",
       "      <td>0.9</td>\n",
       "    </tr>\n",
       "    <tr>\n",
       "      <th>8</th>\n",
       "      <td>SLT Laser</td>\n",
       "      <td>0.55</td>\n",
       "      <td>0.9</td>\n",
       "    </tr>\n",
       "    <tr>\n",
       "      <th>9</th>\n",
       "      <td>Visual Field</td>\n",
       "      <td>0.95</td>\n",
       "      <td>0.9</td>\n",
       "    </tr>\n",
       "    <tr>\n",
       "      <th>3</th>\n",
       "      <td>Avastin</td>\n",
       "      <td>0.65</td>\n",
       "      <td>0.9</td>\n",
       "    </tr>\n",
       "    <tr>\n",
       "      <th>16</th>\n",
       "      <td>Non-Cataract Surgery</td>\n",
       "      <td>0.80</td>\n",
       "      <td>0.9</td>\n",
       "    </tr>\n",
       "    <tr>\n",
       "      <th>18</th>\n",
       "      <td>Retinal Surgery</td>\n",
       "      <td>0.85</td>\n",
       "      <td>0.9</td>\n",
       "    </tr>\n",
       "    <tr>\n",
       "      <th>14</th>\n",
       "      <td>Glaucoma</td>\n",
       "      <td>0.75</td>\n",
       "      <td>0.9</td>\n",
       "    </tr>\n",
       "    <tr>\n",
       "      <th>4</th>\n",
       "      <td>OCT</td>\n",
       "      <td>0.65</td>\n",
       "      <td>0.9</td>\n",
       "    </tr>\n",
       "    <tr>\n",
       "      <th>19</th>\n",
       "      <td>Anesthesia</td>\n",
       "      <td>0.50</td>\n",
       "      <td>0.9</td>\n",
       "    </tr>\n",
       "    <tr>\n",
       "      <th>0</th>\n",
       "      <td>Lucentis</td>\n",
       "      <td>0.65</td>\n",
       "      <td>0.9</td>\n",
       "    </tr>\n",
       "  </tbody>\n",
       "</table>\n",
       "</div>"
      ],
      "text/plain": [
       "                Cpt Type  % of MCA  % of Revenue\n",
       "10       Plastic Surgery      0.95           0.9\n",
       "8              SLT Laser      0.55           0.9\n",
       "9           Visual Field      0.95           0.9\n",
       "3                Avastin      0.65           0.9\n",
       "16  Non-Cataract Surgery      0.80           0.9\n",
       "18       Retinal Surgery      0.85           0.9\n",
       "14              Glaucoma      0.75           0.9\n",
       "4                    OCT      0.65           0.9\n",
       "19            Anesthesia      0.50           0.9\n",
       "0               Lucentis      0.65           0.9"
      ]
     },
     "execution_count": 10,
     "metadata": {},
     "output_type": "execute_result"
    }
   ],
   "source": [
    "df_cost_mca_rev.sample(10)"
   ]
  },
  {
   "cell_type": "markdown",
   "metadata": {},
   "source": [
    "##### Programmatic assessment:"
   ]
  },
  {
   "cell_type": "code",
   "execution_count": 11,
   "metadata": {
    "scrolled": false
   },
   "outputs": [
    {
     "name": "stdout",
     "output_type": "stream",
     "text": [
      "<class 'pandas.core.frame.DataFrame'>\n",
      "RangeIndex: 10320 entries, 0 to 10319\n",
      "Data columns (total 15 columns):\n",
      " #   Column            Non-Null Count  Dtype         \n",
      "---  ------            --------------  -----         \n",
      " 0   Person Number     10320 non-null  int64         \n",
      " 1   charge DOS        10320 non-null  datetime64[ns]\n",
      " 2   Contract          10320 non-null  object        \n",
      " 3   COB1              10320 non-null  object        \n",
      " 4   Location          10320 non-null  object        \n",
      " 5   Physician         10320 non-null  object        \n",
      " 6   Patient Age       10320 non-null  int64         \n",
      " 7   Cpt Type          10320 non-null  object        \n",
      " 8   Co-Payment        10320 non-null  int64         \n",
      " 9   Encounter Number  10320 non-null  int64         \n",
      " 10  Patient Type      10320 non-null  object        \n",
      " 11  Patient Zip Code  10121 non-null  float64       \n",
      " 12  Patient Gender    10320 non-null  object        \n",
      " 13  CPT               10320 non-null  object        \n",
      " 14  Revenue           10320 non-null  float64       \n",
      "dtypes: datetime64[ns](1), float64(2), int64(4), object(8)\n",
      "memory usage: 1.2+ MB\n"
     ]
    }
   ],
   "source": [
    "# check the data table for data Quality issues\n",
    "df_data.info()"
   ]
  },
  {
   "cell_type": "code",
   "execution_count": 12,
   "metadata": {},
   "outputs": [
    {
     "name": "stdout",
     "output_type": "stream",
     "text": [
      "<class 'pandas.core.frame.DataFrame'>\n",
      "RangeIndex: 130 entries, 0 to 129\n",
      "Data columns (total 4 columns):\n",
      " #   Column              Non-Null Count  Dtype  \n",
      "---  ------              --------------  -----  \n",
      " 0   Code Desc           130 non-null    object \n",
      " 1   Cpt Type            130 non-null    object \n",
      " 2   Service Item Id     130 non-null    object \n",
      " 3   Medicare Allowable  130 non-null    float64\n",
      "dtypes: float64(1), object(3)\n",
      "memory usage: 4.2+ KB\n"
     ]
    }
   ],
   "source": [
    "df_cpt_Info.info()"
   ]
  },
  {
   "cell_type": "code",
   "execution_count": 13,
   "metadata": {},
   "outputs": [
    {
     "name": "stdout",
     "output_type": "stream",
     "text": [
      "<class 'pandas.core.frame.DataFrame'>\n",
      "RangeIndex: 83 entries, 0 to 82\n",
      "Data columns (total 10 columns):\n",
      " #   Column       Non-Null Count  Dtype  \n",
      "---  ------       --------------  -----  \n",
      " 0   Number       83 non-null     int64  \n",
      " 1   Contract     83 non-null     object \n",
      " 2   Number.1     83 non-null     int64  \n",
      " 3   COB 1        83 non-null     object \n",
      " 4   Fin Class    83 non-null     object \n",
      " 5   LOB          83 non-null     object \n",
      " 6   Number.2     36 non-null     float64\n",
      " 7   TPA          36 non-null     object \n",
      " 8   Primary Key  83 non-null     object \n",
      " 9   Countif      83 non-null     int64  \n",
      "dtypes: float64(1), int64(3), object(6)\n",
      "memory usage: 6.6+ KB\n"
     ]
    }
   ],
   "source": [
    "df_contract_info.info()"
   ]
  },
  {
   "cell_type": "code",
   "execution_count": 99,
   "metadata": {},
   "outputs": [
    {
     "name": "stdout",
     "output_type": "stream",
     "text": [
      "<class 'pandas.core.frame.DataFrame'>\n",
      "RangeIndex: 23 entries, 0 to 22\n",
      "Data columns (total 3 columns):\n",
      " #   Column        Non-Null Count  Dtype  \n",
      "---  ------        --------------  -----  \n",
      " 0   Cpt Type      23 non-null     object \n",
      " 1   % of MCA      23 non-null     float64\n",
      " 2   % of Revenue  23 non-null     float64\n",
      "dtypes: float64(2), object(1)\n",
      "memory usage: 680.0+ bytes\n"
     ]
    }
   ],
   "source": [
    "df_cost_mca_rev.info()"
   ]
  },
  {
   "cell_type": "code",
   "execution_count": 101,
   "metadata": {},
   "outputs": [
    {
     "data": {
      "text/html": [
       "<div>\n",
       "<style scoped>\n",
       "    .dataframe tbody tr th:only-of-type {\n",
       "        vertical-align: middle;\n",
       "    }\n",
       "\n",
       "    .dataframe tbody tr th {\n",
       "        vertical-align: top;\n",
       "    }\n",
       "\n",
       "    .dataframe thead th {\n",
       "        text-align: right;\n",
       "    }\n",
       "</style>\n",
       "<table border=\"1\" class=\"dataframe\">\n",
       "  <thead>\n",
       "    <tr style=\"text-align: right;\">\n",
       "      <th></th>\n",
       "      <th>Code Desc</th>\n",
       "      <th>Cpt Type</th>\n",
       "      <th>Service Item Id</th>\n",
       "      <th>Medicare Allowable</th>\n",
       "    </tr>\n",
       "  </thead>\n",
       "  <tbody>\n",
       "    <tr>\n",
       "      <th>94</th>\n",
       "      <td>Cataract Ext. C</td>\n",
       "      <td>Cataract Surgery</td>\n",
       "      <td>66982</td>\n",
       "      <td>815.531849</td>\n",
       "    </tr>\n",
       "    <tr>\n",
       "      <th>122</th>\n",
       "      <td>Beovu Delivered</td>\n",
       "      <td>Beovu</td>\n",
       "      <td>Beovu_Delv</td>\n",
       "      <td>0.000000</td>\n",
       "    </tr>\n",
       "  </tbody>\n",
       "</table>\n",
       "</div>"
      ],
      "text/plain": [
       "           Code Desc          Cpt Type Service Item Id  Medicare Allowable\n",
       "94   Cataract Ext. C  Cataract Surgery           66982          815.531849\n",
       "122  Beovu Delivered             Beovu      Beovu_Delv            0.000000"
      ]
     },
     "execution_count": 101,
     "metadata": {},
     "output_type": "execute_result"
    }
   ],
   "source": [
    "df_cpt_Info[df_cpt_Info.duplicated('Service Item Id')]"
   ]
  },
  {
   "cell_type": "code",
   "execution_count": 103,
   "metadata": {},
   "outputs": [
    {
     "data": {
      "text/html": [
       "<div>\n",
       "<style scoped>\n",
       "    .dataframe tbody tr th:only-of-type {\n",
       "        vertical-align: middle;\n",
       "    }\n",
       "\n",
       "    .dataframe tbody tr th {\n",
       "        vertical-align: top;\n",
       "    }\n",
       "\n",
       "    .dataframe thead th {\n",
       "        text-align: right;\n",
       "    }\n",
       "</style>\n",
       "<table border=\"1\" class=\"dataframe\">\n",
       "  <thead>\n",
       "    <tr style=\"text-align: right;\">\n",
       "      <th></th>\n",
       "      <th>Cpt Type</th>\n",
       "      <th>% of MCA</th>\n",
       "      <th>% of Revenue</th>\n",
       "    </tr>\n",
       "  </thead>\n",
       "  <tbody>\n",
       "  </tbody>\n",
       "</table>\n",
       "</div>"
      ],
      "text/plain": [
       "Empty DataFrame\n",
       "Columns: [Cpt Type, % of MCA, % of Revenue]\n",
       "Index: []"
      ]
     },
     "execution_count": 103,
     "metadata": {},
     "output_type": "execute_result"
    }
   ],
   "source": [
    "df_cost_mca_rev[df_cost_mca_rev.duplicated('Cpt Type')]"
   ]
  },
  {
   "cell_type": "markdown",
   "metadata": {},
   "source": [
    "#### Quality issues\n",
    "##### `df_data` table \n",
    "1. Erroneous datatypes (Person Number and Patient Zip Code should be objects, not integers or floats as they are not numeric and not intended for calculations)\n",
    "\n",
    "2. Duplicates on Service Item Id in `df_cpt_Info`\n",
    "\n",
    "##### `df_cost_mca_rev` table\n",
    "3. % of MCA and % of Revenue values not in percentage a"
   ]
  },
  {
   "cell_type": "markdown",
   "metadata": {},
   "source": [
    "#### Tidiness issues\n",
    "1. Based on tidiness rule that Each type of observational unit forms a table, Cost column should be generated from `df_cost_mca_rev` into `df_data`. Also Fin Class, LOB, and TPA from `df_contract_info` should be merged into `df_data`"
   ]
  },
  {
   "cell_type": "markdown",
   "metadata": {},
   "source": [
    "### Data Cleaning"
   ]
  },
  {
   "cell_type": "code",
   "execution_count": 271,
   "metadata": {},
   "outputs": [],
   "source": [
    "# Make copies of original pieces of data\n",
    "df_data_clean = df_data.copy()\n",
    "df_cpt_Info_clean = df_cpt_Info.copy()\n",
    "df_contract_info_clean = df_contract_info.copy()\n",
    "df_cost_mca_rev_clean = df_cost_mca_rev.copy()"
   ]
  },
  {
   "cell_type": "markdown",
   "metadata": {},
   "source": [
    "#### Issue:\n",
    "Erroneous datatypes"
   ]
  },
  {
   "cell_type": "markdown",
   "metadata": {},
   "source": [
    "##### Define\n",
    "- convert Person Number and Patient Zip to object format"
   ]
  },
  {
   "cell_type": "markdown",
   "metadata": {},
   "source": [
    "##### Code"
   ]
  },
  {
   "cell_type": "code",
   "execution_count": 272,
   "metadata": {},
   "outputs": [],
   "source": [
    "# change datatype\n",
    "df_data_clean['Person Number'] = df_data_clean['Person Number'].astype(str)\n",
    "df_data_clean['Patient Zip Code'] = df_data_clean['Patient Zip Code'].astype(str)"
   ]
  },
  {
   "cell_type": "markdown",
   "metadata": {},
   "source": [
    "##### Test"
   ]
  },
  {
   "cell_type": "code",
   "execution_count": 273,
   "metadata": {},
   "outputs": [
    {
     "name": "stdout",
     "output_type": "stream",
     "text": [
      "<class 'pandas.core.frame.DataFrame'>\n",
      "RangeIndex: 10320 entries, 0 to 10319\n",
      "Data columns (total 15 columns):\n",
      " #   Column            Non-Null Count  Dtype         \n",
      "---  ------            --------------  -----         \n",
      " 0   Person Number     10320 non-null  object        \n",
      " 1   charge DOS        10320 non-null  datetime64[ns]\n",
      " 2   Contract          10320 non-null  object        \n",
      " 3   COB1              10320 non-null  object        \n",
      " 4   Location          10320 non-null  object        \n",
      " 5   Physician         10320 non-null  object        \n",
      " 6   Patient Age       10320 non-null  int64         \n",
      " 7   Cpt Type          10320 non-null  object        \n",
      " 8   Co-Payment        10320 non-null  int64         \n",
      " 9   Encounter Number  10320 non-null  int64         \n",
      " 10  Patient Type      10320 non-null  object        \n",
      " 11  Patient Zip Code  10320 non-null  object        \n",
      " 12  Patient Gender    10320 non-null  object        \n",
      " 13  CPT               10320 non-null  object        \n",
      " 14  Revenue           10320 non-null  float64       \n",
      "dtypes: datetime64[ns](1), float64(1), int64(3), object(10)\n",
      "memory usage: 1.2+ MB\n"
     ]
    }
   ],
   "source": [
    "#confirm type\n",
    "df_data_clean.info()"
   ]
  },
  {
   "cell_type": "markdown",
   "metadata": {},
   "source": [
    "#### Issue:\n",
    "% of MCA and % of Revenue values not in percentage"
   ]
  },
  {
   "cell_type": "markdown",
   "metadata": {},
   "source": [
    "##### Define\n",
    "- Multiply % of MCA and % of Revenue values by 100 to convert to percentage"
   ]
  },
  {
   "cell_type": "markdown",
   "metadata": {},
   "source": [
    "##### Code"
   ]
  },
  {
   "cell_type": "code",
   "execution_count": 274,
   "metadata": {},
   "outputs": [],
   "source": [
    "df_cost_mca_rev_clean['% of MCA'] = df_cost_mca_rev_clean['% of MCA'] * 100\n",
    "df_cost_mca_rev_clean['% of Revenue'] = df_cost_mca_rev_clean['% of Revenue'] * 100"
   ]
  },
  {
   "cell_type": "markdown",
   "metadata": {},
   "source": [
    "##### Test"
   ]
  },
  {
   "cell_type": "code",
   "execution_count": 275,
   "metadata": {},
   "outputs": [
    {
     "data": {
      "text/html": [
       "<div>\n",
       "<style scoped>\n",
       "    .dataframe tbody tr th:only-of-type {\n",
       "        vertical-align: middle;\n",
       "    }\n",
       "\n",
       "    .dataframe tbody tr th {\n",
       "        vertical-align: top;\n",
       "    }\n",
       "\n",
       "    .dataframe thead th {\n",
       "        text-align: right;\n",
       "    }\n",
       "</style>\n",
       "<table border=\"1\" class=\"dataframe\">\n",
       "  <thead>\n",
       "    <tr style=\"text-align: right;\">\n",
       "      <th></th>\n",
       "      <th>% of MCA</th>\n",
       "      <th>% of Revenue</th>\n",
       "    </tr>\n",
       "  </thead>\n",
       "  <tbody>\n",
       "    <tr>\n",
       "      <th>15</th>\n",
       "      <td>75.0</td>\n",
       "      <td>90.0</td>\n",
       "    </tr>\n",
       "    <tr>\n",
       "      <th>9</th>\n",
       "      <td>95.0</td>\n",
       "      <td>90.0</td>\n",
       "    </tr>\n",
       "    <tr>\n",
       "      <th>8</th>\n",
       "      <td>55.0</td>\n",
       "      <td>90.0</td>\n",
       "    </tr>\n",
       "    <tr>\n",
       "      <th>13</th>\n",
       "      <td>60.0</td>\n",
       "      <td>90.0</td>\n",
       "    </tr>\n",
       "    <tr>\n",
       "      <th>18</th>\n",
       "      <td>85.0</td>\n",
       "      <td>90.0</td>\n",
       "    </tr>\n",
       "  </tbody>\n",
       "</table>\n",
       "</div>"
      ],
      "text/plain": [
       "    % of MCA  % of Revenue\n",
       "15      75.0          90.0\n",
       "9       95.0          90.0\n",
       "8       55.0          90.0\n",
       "13      60.0          90.0\n",
       "18      85.0          90.0"
      ]
     },
     "execution_count": 275,
     "metadata": {},
     "output_type": "execute_result"
    }
   ],
   "source": [
    "#confirm value in percentage \n",
    "df_cost_mca_rev_clean[['% of MCA','% of Revenue' ]].sample(5)"
   ]
  },
  {
   "cell_type": "markdown",
   "metadata": {},
   "source": [
    "#### Issue:\n",
    "Duplicates on Service Item Id in df_cpt_Info"
   ]
  },
  {
   "cell_type": "markdown",
   "metadata": {},
   "source": [
    "##### Define\n",
    "- Drop duplicate detected and keep just one record"
   ]
  },
  {
   "cell_type": "markdown",
   "metadata": {},
   "source": [
    "##### Code"
   ]
  },
  {
   "cell_type": "code",
   "execution_count": 276,
   "metadata": {},
   "outputs": [],
   "source": [
    "df_cpt_Info_clean = df_cpt_Info_clean.drop_duplicates(subset=['Service Item Id'], keep = 'last')"
   ]
  },
  {
   "cell_type": "markdown",
   "metadata": {},
   "source": [
    "##### Test"
   ]
  },
  {
   "cell_type": "code",
   "execution_count": 277,
   "metadata": {},
   "outputs": [
    {
     "data": {
      "text/html": [
       "<div>\n",
       "<style scoped>\n",
       "    .dataframe tbody tr th:only-of-type {\n",
       "        vertical-align: middle;\n",
       "    }\n",
       "\n",
       "    .dataframe tbody tr th {\n",
       "        vertical-align: top;\n",
       "    }\n",
       "\n",
       "    .dataframe thead th {\n",
       "        text-align: right;\n",
       "    }\n",
       "</style>\n",
       "<table border=\"1\" class=\"dataframe\">\n",
       "  <thead>\n",
       "    <tr style=\"text-align: right;\">\n",
       "      <th></th>\n",
       "      <th>Code Desc</th>\n",
       "      <th>Cpt Type</th>\n",
       "      <th>Service Item Id</th>\n",
       "      <th>Medicare Allowable</th>\n",
       "    </tr>\n",
       "  </thead>\n",
       "  <tbody>\n",
       "  </tbody>\n",
       "</table>\n",
       "</div>"
      ],
      "text/plain": [
       "Empty DataFrame\n",
       "Columns: [Code Desc, Cpt Type, Service Item Id, Medicare Allowable]\n",
       "Index: []"
      ]
     },
     "execution_count": 277,
     "metadata": {},
     "output_type": "execute_result"
    }
   ],
   "source": [
    "df_cpt_Info_clean[df_cpt_Info_clean.duplicated('Service Item Id')]"
   ]
  },
  {
   "cell_type": "markdown",
   "metadata": {},
   "source": [
    "#### Issue:\n",
    "Cost column should be generated from `df_cost_mca_rev` into `df_data`. Also Fin Class, LOB, and TPA from `df_contract_info` should be merged into `df_data`"
   ]
  },
  {
   "cell_type": "markdown",
   "metadata": {},
   "source": [
    "##### Define\n",
    "- represent Medicare Allowable value for each record in df_data\n",
    "- generate the cost column in df_data using Revenue and Medicare Allowable based on the cost rule."
   ]
  },
  {
   "cell_type": "markdown",
   "metadata": {},
   "source": [
    "##### Code"
   ]
  },
  {
   "cell_type": "code",
   "execution_count": 278,
   "metadata": {},
   "outputs": [],
   "source": [
    "#create the merging key on both tables\n",
    "df_cpt_Info_clean['Key'] = df_cpt_Info_clean['Service Item Id']\n",
    "df_data_clean['Key'] = df_data_clean['CPT']"
   ]
  },
  {
   "cell_type": "code",
   "execution_count": 279,
   "metadata": {},
   "outputs": [],
   "source": [
    "#confirm match on first row\n",
    "assert df_cpt_Info_clean['Key'][0] == df_data_clean['Key'][0]"
   ]
  },
  {
   "cell_type": "code",
   "execution_count": 280,
   "metadata": {},
   "outputs": [],
   "source": [
    "# drop Cpt Type on df_cpt_Info_clean to avoid unique column error\n",
    "df_cpt_Info_clean = df_cpt_Info_clean.drop(['Cpt Type'], axis = 1)"
   ]
  },
  {
   "cell_type": "code",
   "execution_count": 281,
   "metadata": {},
   "outputs": [],
   "source": [
    "# merge the table with match on key column\n",
    "df_data_clean = df_data_clean.merge(df_cpt_Info_clean, how='inner', on='Key')"
   ]
  },
  {
   "cell_type": "code",
   "execution_count": 282,
   "metadata": {},
   "outputs": [],
   "source": [
    "# drop redudant columns\n",
    "df_data_clean = df_data_clean.drop(['Key','Service Item Id'], axis = 1)"
   ]
  },
  {
   "cell_type": "markdown",
   "metadata": {},
   "source": [
    "##### Test"
   ]
  },
  {
   "cell_type": "code",
   "execution_count": 283,
   "metadata": {},
   "outputs": [
    {
     "data": {
      "text/plain": [
       "Index(['Person Number', 'charge DOS', 'Contract', 'COB1', 'Location',\n",
       "       'Physician', 'Patient Age', 'Cpt Type', 'Co-Payment',\n",
       "       'Encounter Number', 'Patient Type', 'Patient Zip Code',\n",
       "       'Patient Gender', 'CPT', 'Revenue', 'Code Desc', 'Medicare Allowable'],\n",
       "      dtype='object')"
      ]
     },
     "execution_count": 283,
     "metadata": {},
     "output_type": "execute_result"
    }
   ],
   "source": [
    "#check new columns in df_data_clean\n",
    "df_data_clean.columns"
   ]
  },
  {
   "cell_type": "code",
   "execution_count": 284,
   "metadata": {},
   "outputs": [
    {
     "data": {
      "text/html": [
       "<div>\n",
       "<style scoped>\n",
       "    .dataframe tbody tr th:only-of-type {\n",
       "        vertical-align: middle;\n",
       "    }\n",
       "\n",
       "    .dataframe tbody tr th {\n",
       "        vertical-align: top;\n",
       "    }\n",
       "\n",
       "    .dataframe thead th {\n",
       "        text-align: right;\n",
       "    }\n",
       "</style>\n",
       "<table border=\"1\" class=\"dataframe\">\n",
       "  <thead>\n",
       "    <tr style=\"text-align: right;\">\n",
       "      <th></th>\n",
       "      <th>Person Number</th>\n",
       "      <th>charge DOS</th>\n",
       "      <th>Contract</th>\n",
       "      <th>COB1</th>\n",
       "      <th>Location</th>\n",
       "      <th>Physician</th>\n",
       "      <th>Patient Age</th>\n",
       "      <th>Cpt Type</th>\n",
       "      <th>Co-Payment</th>\n",
       "      <th>Encounter Number</th>\n",
       "      <th>Patient Type</th>\n",
       "      <th>Patient Zip Code</th>\n",
       "      <th>Patient Gender</th>\n",
       "      <th>CPT</th>\n",
       "      <th>Revenue</th>\n",
       "      <th>Code Desc</th>\n",
       "      <th>Medicare Allowable</th>\n",
       "    </tr>\n",
       "  </thead>\n",
       "  <tbody>\n",
       "    <tr>\n",
       "      <th>8903</th>\n",
       "      <td>23046</td>\n",
       "      <td>2019-02-27</td>\n",
       "      <td>Contract 29</td>\n",
       "      <td>COB1 138</td>\n",
       "      <td>Location 4</td>\n",
       "      <td>Physician 14</td>\n",
       "      <td>75</td>\n",
       "      <td>Other</td>\n",
       "      <td>0</td>\n",
       "      <td>16173</td>\n",
       "      <td>Diagnostic Test</td>\n",
       "      <td>90049.0</td>\n",
       "      <td>M</td>\n",
       "      <td>76519</td>\n",
       "      <td>0.000000</td>\n",
       "      <td>Ophth Biomet A-</td>\n",
       "      <td>76.872106</td>\n",
       "    </tr>\n",
       "    <tr>\n",
       "      <th>6349</th>\n",
       "      <td>23853</td>\n",
       "      <td>2020-07-13</td>\n",
       "      <td>Contract 77</td>\n",
       "      <td>COB1 139</td>\n",
       "      <td>Location 31</td>\n",
       "      <td>Physician 18</td>\n",
       "      <td>55</td>\n",
       "      <td>OCT</td>\n",
       "      <td>0</td>\n",
       "      <td>34190</td>\n",
       "      <td>Retinal Injections</td>\n",
       "      <td>90026.0</td>\n",
       "      <td>F</td>\n",
       "      <td>92134</td>\n",
       "      <td>60.430447</td>\n",
       "      <td>Scan Computeriz</td>\n",
       "      <td>43.084681</td>\n",
       "    </tr>\n",
       "    <tr>\n",
       "      <th>9310</th>\n",
       "      <td>11696</td>\n",
       "      <td>2020-10-26</td>\n",
       "      <td>Contract 1</td>\n",
       "      <td>COB1 24</td>\n",
       "      <td>Location 23</td>\n",
       "      <td>Physician 14</td>\n",
       "      <td>71</td>\n",
       "      <td>Glaucoma</td>\n",
       "      <td>0</td>\n",
       "      <td>10279</td>\n",
       "      <td>Surgery</td>\n",
       "      <td>90046.0</td>\n",
       "      <td>M</td>\n",
       "      <td>66170</td>\n",
       "      <td>1661.763533</td>\n",
       "      <td>Fistuliz Scler;</td>\n",
       "      <td>1190.778929</td>\n",
       "    </tr>\n",
       "  </tbody>\n",
       "</table>\n",
       "</div>"
      ],
      "text/plain": [
       "     Person Number charge DOS     Contract      COB1     Location  \\\n",
       "8903         23046 2019-02-27  Contract 29  COB1 138   Location 4   \n",
       "6349         23853 2020-07-13  Contract 77  COB1 139  Location 31   \n",
       "9310         11696 2020-10-26   Contract 1   COB1 24  Location 23   \n",
       "\n",
       "         Physician  Patient Age  Cpt Type  Co-Payment  Encounter Number  \\\n",
       "8903  Physician 14           75     Other           0             16173   \n",
       "6349  Physician 18           55       OCT           0             34190   \n",
       "9310  Physician 14           71  Glaucoma           0             10279   \n",
       "\n",
       "            Patient Type Patient Zip Code Patient Gender    CPT      Revenue  \\\n",
       "8903     Diagnostic Test          90049.0              M  76519     0.000000   \n",
       "6349  Retinal Injections          90026.0              F  92134    60.430447   \n",
       "9310             Surgery          90046.0              M  66170  1661.763533   \n",
       "\n",
       "            Code Desc  Medicare Allowable  \n",
       "8903  Ophth Biomet A-           76.872106  \n",
       "6349  Scan Computeriz           43.084681  \n",
       "9310  Fistuliz Scler;         1190.778929  "
      ]
     },
     "execution_count": 284,
     "metadata": {},
     "output_type": "execute_result"
    }
   ],
   "source": [
    "df_data_clean.sample(3)"
   ]
  },
  {
   "cell_type": "code",
   "execution_count": 285,
   "metadata": {},
   "outputs": [],
   "source": [
    "# confirm that the number of unique values in CPT after the merge is still same\n",
    "assert df_data_clean['CPT'].nunique() == df_data['CPT'].nunique()"
   ]
  },
  {
   "cell_type": "code",
   "execution_count": 286,
   "metadata": {},
   "outputs": [],
   "source": [
    "# confirm the number of rows is same after merger\n",
    "assert df_data.shape[0] == df_data_clean.shape[0]"
   ]
  },
  {
   "cell_type": "markdown",
   "metadata": {},
   "source": [
    "#### Issue:\n",
    "generate the cost column"
   ]
  },
  {
   "cell_type": "markdown",
   "metadata": {},
   "source": [
    "##### Define\n",
    "- generate the cost column in df_data using Revenue and Medicare Allowable based on the cost rule."
   ]
  },
  {
   "cell_type": "markdown",
   "metadata": {},
   "source": [
    "##### Code"
   ]
  },
  {
   "cell_type": "code",
   "execution_count": 287,
   "metadata": {},
   "outputs": [],
   "source": [
    "# merge cost % records to df_data_clean table\n",
    "df_data_clean = df_data_clean.merge(df_cost_mca_rev_clean, how='left', on='Cpt Type')"
   ]
  },
  {
   "cell_type": "code",
   "execution_count": 288,
   "metadata": {
    "scrolled": false
   },
   "outputs": [],
   "source": [
    "assert df_data_clean['Cpt Type'].nunique() == df_data['Cpt Type'].nunique()"
   ]
  },
  {
   "cell_type": "code",
   "execution_count": 289,
   "metadata": {},
   "outputs": [],
   "source": [
    "# confirm the number of rows is same after merger\n",
    "assert df_data.shape[0] == df_data_clean.shape[0]"
   ]
  },
  {
   "cell_type": "code",
   "execution_count": 290,
   "metadata": {},
   "outputs": [],
   "source": [
    "# mirro allowance column as cost\n",
    "df_data_clean['Cost'] = df_data_clean['Medicare Allowable']\n"
   ]
  },
  {
   "cell_type": "code",
   "execution_count": 291,
   "metadata": {
    "scrolled": true
   },
   "outputs": [
    {
     "name": "stderr",
     "output_type": "stream",
     "text": [
      "C:\\ProgramData\\Anaconda3\\lib\\site-packages\\ipykernel_launcher.py:8: SettingWithCopyWarning: \n",
      "A value is trying to be set on a copy of a slice from a DataFrame\n",
      "\n",
      "See the caveats in the documentation: https://pandas.pydata.org/pandas-docs/stable/user_guide/indexing.html#returning-a-view-versus-a-copy\n",
      "  \n",
      "C:\\ProgramData\\Anaconda3\\lib\\site-packages\\ipykernel_launcher.py:9: SettingWithCopyWarning: \n",
      "A value is trying to be set on a copy of a slice from a DataFrame\n",
      "\n",
      "See the caveats in the documentation: https://pandas.pydata.org/pandas-docs/stable/user_guide/indexing.html#returning-a-view-versus-a-copy\n",
      "  if __name__ == '__main__':\n",
      "C:\\ProgramData\\Anaconda3\\lib\\site-packages\\ipykernel_launcher.py:5: SettingWithCopyWarning: \n",
      "A value is trying to be set on a copy of a slice from a DataFrame\n",
      "\n",
      "See the caveats in the documentation: https://pandas.pydata.org/pandas-docs/stable/user_guide/indexing.html#returning-a-view-versus-a-copy\n",
      "  \"\"\"\n",
      "C:\\ProgramData\\Anaconda3\\lib\\site-packages\\ipykernel_launcher.py:6: SettingWithCopyWarning: \n",
      "A value is trying to be set on a copy of a slice from a DataFrame\n",
      "\n",
      "See the caveats in the documentation: https://pandas.pydata.org/pandas-docs/stable/user_guide/indexing.html#returning-a-view-versus-a-copy\n",
      "  \n"
     ]
    }
   ],
   "source": [
    "# generate cost (If MCA is greater that zero use % of medicare allowance else use % of revenue)\n",
    "# calculate cost value and replace\n",
    "for ind in df_data_clean.index:\n",
    "    if df_data_clean['Medicare Allowable'][ind] > 0:\n",
    "        df_data_clean['Cost'][ind] = (df_data_clean['% of MCA'][ind] * df_data_clean['Medicare Allowable'][ind])/100\n",
    "        df_data_clean['% of Revenue'][ind] = 0\n",
    "    elif df_data_clean['Medicare Allowable'][ind] <= 0:\n",
    "        df_data_clean['Cost'][ind] = (df_data_clean['% of Revenue'][ind] * df_data_clean['Revenue'][ind])/100\n",
    "        df_data_clean['% of MCA'][ind] = 0"
   ]
  },
  {
   "cell_type": "markdown",
   "metadata": {},
   "source": [
    "##### Test"
   ]
  },
  {
   "cell_type": "code",
   "execution_count": 292,
   "metadata": {},
   "outputs": [
    {
     "data": {
      "text/html": [
       "<div>\n",
       "<style scoped>\n",
       "    .dataframe tbody tr th:only-of-type {\n",
       "        vertical-align: middle;\n",
       "    }\n",
       "\n",
       "    .dataframe tbody tr th {\n",
       "        vertical-align: top;\n",
       "    }\n",
       "\n",
       "    .dataframe thead th {\n",
       "        text-align: right;\n",
       "    }\n",
       "</style>\n",
       "<table border=\"1\" class=\"dataframe\">\n",
       "  <thead>\n",
       "    <tr style=\"text-align: right;\">\n",
       "      <th></th>\n",
       "      <th>Revenue</th>\n",
       "      <th>Medicare Allowable</th>\n",
       "      <th>% of MCA</th>\n",
       "      <th>% of Revenue</th>\n",
       "      <th>Cost</th>\n",
       "    </tr>\n",
       "  </thead>\n",
       "  <tbody>\n",
       "    <tr>\n",
       "      <th>0</th>\n",
       "      <td>1823.640000</td>\n",
       "      <td>0.000000</td>\n",
       "      <td>0.0</td>\n",
       "      <td>90.0</td>\n",
       "      <td>1641.276000</td>\n",
       "    </tr>\n",
       "    <tr>\n",
       "      <th>1</th>\n",
       "      <td>1823.640000</td>\n",
       "      <td>0.000000</td>\n",
       "      <td>0.0</td>\n",
       "      <td>90.0</td>\n",
       "      <td>1641.276000</td>\n",
       "    </tr>\n",
       "    <tr>\n",
       "      <th>2</th>\n",
       "      <td>1823.640000</td>\n",
       "      <td>0.000000</td>\n",
       "      <td>0.0</td>\n",
       "      <td>90.0</td>\n",
       "      <td>1641.276000</td>\n",
       "    </tr>\n",
       "    <tr>\n",
       "      <th>3</th>\n",
       "      <td>1823.640000</td>\n",
       "      <td>0.000000</td>\n",
       "      <td>0.0</td>\n",
       "      <td>90.0</td>\n",
       "      <td>1641.276000</td>\n",
       "    </tr>\n",
       "    <tr>\n",
       "      <th>4</th>\n",
       "      <td>1823.640000</td>\n",
       "      <td>0.000000</td>\n",
       "      <td>0.0</td>\n",
       "      <td>90.0</td>\n",
       "      <td>1641.276000</td>\n",
       "    </tr>\n",
       "    <tr>\n",
       "      <th>...</th>\n",
       "      <td>...</td>\n",
       "      <td>...</td>\n",
       "      <td>...</td>\n",
       "      <td>...</td>\n",
       "      <td>...</td>\n",
       "    </tr>\n",
       "    <tr>\n",
       "      <th>10315</th>\n",
       "      <td>43.546866</td>\n",
       "      <td>31.104904</td>\n",
       "      <td>75.0</td>\n",
       "      <td>0.0</td>\n",
       "      <td>23.328678</td>\n",
       "    </tr>\n",
       "    <tr>\n",
       "      <th>10316</th>\n",
       "      <td>43.546866</td>\n",
       "      <td>31.104904</td>\n",
       "      <td>75.0</td>\n",
       "      <td>0.0</td>\n",
       "      <td>23.328678</td>\n",
       "    </tr>\n",
       "    <tr>\n",
       "      <th>10317</th>\n",
       "      <td>212.734334</td>\n",
       "      <td>151.953095</td>\n",
       "      <td>65.0</td>\n",
       "      <td>0.0</td>\n",
       "      <td>98.769512</td>\n",
       "    </tr>\n",
       "    <tr>\n",
       "      <th>10318</th>\n",
       "      <td>802.262136</td>\n",
       "      <td>573.044383</td>\n",
       "      <td>65.0</td>\n",
       "      <td>0.0</td>\n",
       "      <td>372.478849</td>\n",
       "    </tr>\n",
       "    <tr>\n",
       "      <th>10319</th>\n",
       "      <td>805.462000</td>\n",
       "      <td>573.044383</td>\n",
       "      <td>65.0</td>\n",
       "      <td>0.0</td>\n",
       "      <td>372.478849</td>\n",
       "    </tr>\n",
       "  </tbody>\n",
       "</table>\n",
       "<p>10320 rows × 5 columns</p>\n",
       "</div>"
      ],
      "text/plain": [
       "           Revenue  Medicare Allowable  % of MCA  % of Revenue         Cost\n",
       "0      1823.640000            0.000000       0.0          90.0  1641.276000\n",
       "1      1823.640000            0.000000       0.0          90.0  1641.276000\n",
       "2      1823.640000            0.000000       0.0          90.0  1641.276000\n",
       "3      1823.640000            0.000000       0.0          90.0  1641.276000\n",
       "4      1823.640000            0.000000       0.0          90.0  1641.276000\n",
       "...            ...                 ...       ...           ...          ...\n",
       "10315    43.546866           31.104904      75.0           0.0    23.328678\n",
       "10316    43.546866           31.104904      75.0           0.0    23.328678\n",
       "10317   212.734334          151.953095      65.0           0.0    98.769512\n",
       "10318   802.262136          573.044383      65.0           0.0   372.478849\n",
       "10319   805.462000          573.044383      65.0           0.0   372.478849\n",
       "\n",
       "[10320 rows x 5 columns]"
      ]
     },
     "execution_count": 292,
     "metadata": {},
     "output_type": "execute_result"
    }
   ],
   "source": [
    "df_data_clean[['Revenue','Medicare Allowable','% of MCA', '% of Revenue', 'Cost']]"
   ]
  },
  {
   "cell_type": "markdown",
   "metadata": {},
   "source": [
    "## Storing Data\n",
    "- Save cleaned `df_data_clean` master dataset to a excel file named \"twc_case_study_master.xlsx\".\n",
    "- Save the `df_contract_info_clean` to excel "
   ]
  },
  {
   "cell_type": "code",
   "execution_count": 293,
   "metadata": {},
   "outputs": [],
   "source": [
    "df_data_clean.to_excel('twc_case_study_master.xlsx', sheet_name='master Data', index=False)\n",
    "df_contract_info_clean.to_excel('Contract Info.xlsx', sheet_name='Contract Info', index=False)"
   ]
  },
  {
   "cell_type": "markdown",
   "metadata": {},
   "source": [
    "<a id='eda'></a>\n",
    "## Exploratory Data Analysis"
   ]
  },
  {
   "cell_type": "code",
   "execution_count": 294,
   "metadata": {},
   "outputs": [],
   "source": [
    "# load dataset\n",
    "df_master = pd.read_excel('twc_case_study_master.xlsx')"
   ]
  },
  {
   "cell_type": "code",
   "execution_count": 295,
   "metadata": {},
   "outputs": [
    {
     "data": {
      "text/html": [
       "<div>\n",
       "<style scoped>\n",
       "    .dataframe tbody tr th:only-of-type {\n",
       "        vertical-align: middle;\n",
       "    }\n",
       "\n",
       "    .dataframe tbody tr th {\n",
       "        vertical-align: top;\n",
       "    }\n",
       "\n",
       "    .dataframe thead th {\n",
       "        text-align: right;\n",
       "    }\n",
       "</style>\n",
       "<table border=\"1\" class=\"dataframe\">\n",
       "  <thead>\n",
       "    <tr style=\"text-align: right;\">\n",
       "      <th></th>\n",
       "      <th>Person Number</th>\n",
       "      <th>charge DOS</th>\n",
       "      <th>Contract</th>\n",
       "      <th>COB1</th>\n",
       "      <th>Location</th>\n",
       "      <th>Physician</th>\n",
       "      <th>Patient Age</th>\n",
       "      <th>Cpt Type</th>\n",
       "      <th>Co-Payment</th>\n",
       "      <th>Encounter Number</th>\n",
       "      <th>Patient Type</th>\n",
       "      <th>Patient Zip Code</th>\n",
       "      <th>Patient Gender</th>\n",
       "      <th>CPT</th>\n",
       "      <th>Revenue</th>\n",
       "      <th>Code Desc</th>\n",
       "      <th>Medicare Allowable</th>\n",
       "      <th>% of MCA</th>\n",
       "      <th>% of Revenue</th>\n",
       "      <th>Cost</th>\n",
       "    </tr>\n",
       "  </thead>\n",
       "  <tbody>\n",
       "    <tr>\n",
       "      <th>0</th>\n",
       "      <td>21913</td>\n",
       "      <td>2020-01-06</td>\n",
       "      <td>Contract 1</td>\n",
       "      <td>COB1 4</td>\n",
       "      <td>Location 4</td>\n",
       "      <td>Physician 4</td>\n",
       "      <td>73</td>\n",
       "      <td>Lucentis</td>\n",
       "      <td>0</td>\n",
       "      <td>5</td>\n",
       "      <td>Retinal Injections</td>\n",
       "      <td>90011.0</td>\n",
       "      <td>M</td>\n",
       "      <td>LUCEN_DELV</td>\n",
       "      <td>1823.64</td>\n",
       "      <td>Lucentis Delive</td>\n",
       "      <td>0.0</td>\n",
       "      <td>0.0</td>\n",
       "      <td>90.0</td>\n",
       "      <td>1641.276</td>\n",
       "    </tr>\n",
       "    <tr>\n",
       "      <th>1</th>\n",
       "      <td>18623</td>\n",
       "      <td>2019-05-09</td>\n",
       "      <td>Contract 1</td>\n",
       "      <td>COB1 4</td>\n",
       "      <td>Location 4</td>\n",
       "      <td>Physician 4</td>\n",
       "      <td>69</td>\n",
       "      <td>Lucentis</td>\n",
       "      <td>0</td>\n",
       "      <td>1599</td>\n",
       "      <td>Retinal Injections</td>\n",
       "      <td>90043.0</td>\n",
       "      <td>F</td>\n",
       "      <td>LUCEN_DELV</td>\n",
       "      <td>1823.64</td>\n",
       "      <td>Lucentis Delive</td>\n",
       "      <td>0.0</td>\n",
       "      <td>0.0</td>\n",
       "      <td>90.0</td>\n",
       "      <td>1641.276</td>\n",
       "    </tr>\n",
       "    <tr>\n",
       "      <th>2</th>\n",
       "      <td>24780</td>\n",
       "      <td>2019-01-11</td>\n",
       "      <td>Contract 1</td>\n",
       "      <td>COB1 4</td>\n",
       "      <td>Location 4</td>\n",
       "      <td>Physician 4</td>\n",
       "      <td>75</td>\n",
       "      <td>Lucentis</td>\n",
       "      <td>0</td>\n",
       "      <td>1614</td>\n",
       "      <td>Office Visit</td>\n",
       "      <td>90043.0</td>\n",
       "      <td>F</td>\n",
       "      <td>LUCEN_DELV</td>\n",
       "      <td>1823.64</td>\n",
       "      <td>Lucentis Delive</td>\n",
       "      <td>0.0</td>\n",
       "      <td>0.0</td>\n",
       "      <td>90.0</td>\n",
       "      <td>1641.276</td>\n",
       "    </tr>\n",
       "  </tbody>\n",
       "</table>\n",
       "</div>"
      ],
      "text/plain": [
       "   Person Number charge DOS    Contract    COB1    Location    Physician  \\\n",
       "0          21913 2020-01-06  Contract 1  COB1 4  Location 4  Physician 4   \n",
       "1          18623 2019-05-09  Contract 1  COB1 4  Location 4  Physician 4   \n",
       "2          24780 2019-01-11  Contract 1  COB1 4  Location 4  Physician 4   \n",
       "\n",
       "   Patient Age  Cpt Type  Co-Payment  Encounter Number        Patient Type  \\\n",
       "0           73  Lucentis           0                 5  Retinal Injections   \n",
       "1           69  Lucentis           0              1599  Retinal Injections   \n",
       "2           75  Lucentis           0              1614        Office Visit   \n",
       "\n",
       "   Patient Zip Code Patient Gender         CPT  Revenue        Code Desc  \\\n",
       "0           90011.0              M  LUCEN_DELV  1823.64  Lucentis Delive   \n",
       "1           90043.0              F  LUCEN_DELV  1823.64  Lucentis Delive   \n",
       "2           90043.0              F  LUCEN_DELV  1823.64  Lucentis Delive   \n",
       "\n",
       "   Medicare Allowable  % of MCA  % of Revenue      Cost  \n",
       "0                 0.0       0.0          90.0  1641.276  \n",
       "1                 0.0       0.0          90.0  1641.276  \n",
       "2                 0.0       0.0          90.0  1641.276  "
      ]
     },
     "execution_count": 295,
     "metadata": {},
     "output_type": "execute_result"
    }
   ],
   "source": [
    "df_master.head(3)"
   ]
  },
  {
   "cell_type": "markdown",
   "metadata": {},
   "source": [
    "### Research Question 1 (Replace this header name!)"
   ]
  },
  {
   "cell_type": "markdown",
   "metadata": {},
   "source": [
    "### Research Question 2  (Replace this header name!)"
   ]
  },
  {
   "cell_type": "code",
   "execution_count": null,
   "metadata": {
    "collapsed": true
   },
   "outputs": [],
   "source": [
    "# Continue to explore the data to address your additional research\n",
    "#   questions. Add more headers as needed if you have more questions to\n",
    "#   investigate.\n"
   ]
  },
  {
   "cell_type": "markdown",
   "metadata": {},
   "source": [
    "<a id='conclusions'></a>\n",
    "## Conclusions\n",
    "\n",
    "> **Tip**: Finally, summarize your findings and the results that have been performed. Make sure that you are clear with regards to the limitations of your exploration. If you haven't done any statistical tests, do not imply any statistical conclusions. And make sure you avoid implying causation from correlation!\n",
    "\n",
    "> **Tip**: Once you are satisfied with your work, you should save a copy of the report in HTML or PDF form via the **File** > **Download as** submenu. Before exporting your report, check over it to make sure that the flow of the report is complete. You should probably remove all of the \"Tip\" quotes like this one so that the presentation is as tidy as possible. Congratulations!"
   ]
  },
  {
   "cell_type": "code",
   "execution_count": null,
   "metadata": {
    "collapsed": true
   },
   "outputs": [],
   "source": []
  }
 ],
 "metadata": {
  "kernelspec": {
   "display_name": "Python 3",
   "language": "python",
   "name": "python3"
  },
  "language_info": {
   "codemirror_mode": {
    "name": "ipython",
    "version": 3
   },
   "file_extension": ".py",
   "mimetype": "text/x-python",
   "name": "python",
   "nbconvert_exporter": "python",
   "pygments_lexer": "ipython3",
   "version": "3.7.6"
  }
 },
 "nbformat": 4,
 "nbformat_minor": 2
}
